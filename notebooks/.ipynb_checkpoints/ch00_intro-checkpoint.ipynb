{
 "cells": [
  {
   "cell_type": "markdown",
   "metadata": {
    "id": "XngXq1SGWTKh"
   },
   "source": [
    "# 序章"
   ]
  },
  {
   "cell_type": "markdown",
   "metadata": {
    "id": "C3Veo_gOEX6r"
   },
   "source": [
    "## 라이브러리 및 커맨드 준비"
   ]
  },
  {
   "cell_type": "code",
   "execution_count": null,
   "metadata": {
    "id": "mIh89F2d5OdR"
   },
   "outputs": [],
   "source": [
    "# 필요한 라이브러리, 커맨드 설치\n",
    "!pip install japanize_matplotlib | tail -n 1\n",
    "!pip install torchviz | tail -n 1\n",
    "w = !apt install tree\n",
    "print(w[-2])"
   ]
  },
  {
   "cell_type": "code",
   "execution_count": null,
   "metadata": {
    "id": "NxUum-JUWN-s"
   },
   "outputs": [],
   "source": [
    "# 필요한 라이브러리 임포트\n",
    "\n",
    "%matplotlib inline\n",
    "import numpy as np\n",
    "import matplotlib.pyplot as plt\n",
    "\n",
    "import torch\n",
    "import torch.nn as nn\n",
    "import torch.optim as optim\n",
    "import torchvision.datasets as datasets\n",
    "import torchvision.transforms as transforms\n",
    "from torch.utils.data import DataLoader"
   ]
  },
  {
   "cell_type": "markdown",
   "metadata": {
    "id": "2J_3IJXGEX6s"
   },
   "source": [
    "## 초기설정"
   ]
  },
  {
   "cell_type": "code",
   "execution_count": null,
   "metadata": {
    "id": "Ky9ZRueUWiQr"
   },
   "outputs": [],
   "source": [
    "# 초기설정\n",
    "\n",
    "# 기본 폰트 사이즈 변경\n",
    "plt.rcParams['font.size'] = 14\n",
    "\n",
    "# warning 표시 끄기\n",
    "import warnings\n",
    "warnings.simplefilter('ignore')"
   ]
  },
  {
   "cell_type": "code",
   "execution_count": null,
   "metadata": {
    "id": "GzMnr3qmWqgB"
   },
   "outputs": [],
   "source": [
    "# 디바이스 할당 (8장)\n",
    "\n",
    "device = torch.device(\"cuda:0\" if torch.cuda.is_available() else \"cpu\")\n",
    "print(device)"
   ]
  },
  {
   "cell_type": "code",
   "execution_count": null,
   "metadata": {
    "id": "0u2kbtvKWuGw"
   },
   "outputs": [],
   "source": [
    "# 공통함수 읽어오기 (9장)\n",
    "\n",
    "# 공통함수 다운로드\n",
    "!git clone https://github.com/makaishi2/pythonlibs.git\n",
    "\n",
    "# 공통함수 임포트\n",
    "from pythonlibs.torch_lib1 import *\n",
    "\n",
    "# 공통함수 체크\n",
    "print(README)"
   ]
  },
  {
   "cell_type": "markdown",
   "metadata": {
    "id": "r45T9pLkEX6t"
   },
   "source": [
    "## 학습 데이터 읽어오기"
   ]
  },
  {
   "cell_type": "code",
   "execution_count": null,
   "metadata": {
    "id": "mqgQOcSr8do-"
   },
   "outputs": [],
   "source": [
    "# 학습용 데이터 수집하기 (12장)\n",
    "\n",
    "# 학습용 이미지 다운로드\n",
    "w = !wget https://github.com/makaishi2/pythonlibs/raw/main/images/dog_wolf.zip\n",
    "print(w[-2])\n",
    "\n",
    "# 학습용 이미지 압축풀기\n",
    "w = !unzip dog_wolf.zip\n",
    "print(w[-1])\n",
    "# 디렉토리명 설정\n",
    "data_dir = 'dog_wolf'\n",
    "\n",
    "# 학습, 테스트 디렉토리명 설정\n",
    "import os\n",
    "train_dir = os.path.join(data_dir, 'train')\n",
    "test_dir = os.path.join(data_dir, 'test')\n",
    "\n",
    "# 분류 클래스 설정\n",
    "classes = ['dog', 'wolf']\n",
    "\n",
    "# 압축해제 결과 트리 구조 보기\n",
    "!tree dog_wolf"
   ]
  },
  {
   "cell_type": "code",
   "execution_count": null,
   "metadata": {
    "id": "hCf-dM21XQrs"
   },
   "outputs": [],
   "source": [
    "# 학습용 데이터 준비하기 (8장, 10장, 12장)\n",
    "\n",
    "# transform 의 정의\n",
    "# 검증 데이터용: 정규화만을 실시\n",
    "test_transform = transforms.Compose([\n",
    "    transforms.Resize(224),\n",
    "    transforms.CenterCrop(224),\n",
    "    transforms.ToTensor(),\n",
    "    transforms.Normalize(0.5, 0.5)\n",
    "])\n",
    "\n",
    "# 학습 데이터용: 정규화에 RandomHorizontalFlip 과 RandomErasing 을 추가로 실시\n",
    "train_transform = transforms.Compose([\n",
    "    transforms.RandomHorizontalFlip(p=0.5), \n",
    "    transforms.Resize(224),\n",
    "    transforms.CenterCrop(224),\n",
    "    transforms.ToTensor(),\n",
    "    transforms.Normalize(0.5, 0.5),\n",
    "    transforms.RandomErasing(p=0.5, scale=(0.02, 0.33), ratio=(0.3, 3.3), value=0, inplace=False)   \n",
    "])\n",
    "\n",
    "# dataset 정의\n",
    "train_data = datasets.ImageFolder(train_dir, transform=train_transform)\n",
    "train_data2 = datasets.ImageFolder(train_dir, transform=test_transform)\n",
    "test_data = datasets.ImageFolder(test_dir, transform=test_transform)\n",
    "\n",
    "# dataloader 정의\n",
    "batch_size = 5\n",
    "#train_loader = DataLoader(train_data, batch_size=batch_size, shuffle=True)\n",
    "train_loader = DataLoader(train_data, batch_size=5, shuffle=True)\n",
    "train_loader2 = DataLoader(train_data2, batch_size=40, shuffle=False)\n",
    "test_loader = DataLoader(test_data, batch_size=5, shuffle=False)\n",
    "test_loader2 = DataLoader(test_data, batch_size=10, shuffle=True)\n"
   ]
  },
  {
   "cell_type": "markdown",
   "metadata": {
    "id": "2Asmir2yEX6u"
   },
   "source": [
    "## 학습 이미지 데이터 확인"
   ]
  },
  {
   "cell_type": "code",
   "execution_count": null,
   "metadata": {
    "id": "hgdFKDDWHjjR"
   },
   "outputs": [],
   "source": [
    "# 학습용 데이터 (４0건)\n",
    "show_images_labels(train_loader2, classes, None, None)"
   ]
  },
  {
   "cell_type": "markdown",
   "metadata": {
    "id": "HWB4ezRBQ_gY"
   },
   "source": [
    "## 검증 이미지 데이터 확인"
   ]
  },
  {
   "cell_type": "code",
   "execution_count": null,
   "metadata": {
    "id": "l3eUMamIHaon"
   },
   "outputs": [],
   "source": [
    "# 검증용 데이터 (10건)\n",
    "# 우선 정답 라벨 없이 이미지만을 표시합니다.\n",
    "# 각 사진이 개와 늑대중 어떤 것인지 각자 판단해 보기 바랍니다.\n",
    "torch_seed()\n",
    "show_images_labels(test_loader2, ['', ''], None, None)"
   ]
  },
  {
   "cell_type": "code",
   "execution_count": null,
   "metadata": {
    "id": "XhADsgdYRIaR"
   },
   "outputs": [],
   "source": [
    "# 검증용 데이터 (10건)\n",
    "# 이것이 정답 데이터 입니다.\n",
    "# 10건 중 몇 건의 정답을 맞췄습니까.\n",
    "torch_seed()\n",
    "show_images_labels(test_loader2, classes, None, None)"
   ]
  },
  {
   "cell_type": "markdown",
   "metadata": {
    "id": "NZ6GmOBbEX6u"
   },
   "source": [
    "## 모델 구축하기"
   ]
  },
  {
   "cell_type": "code",
   "execution_count": null,
   "metadata": {
    "id": "vGPiu9Y6gaE8"
   },
   "outputs": [],
   "source": [
    "# 사전에 학습이 끝난 모델을 이용해서 모델을 구축 (11장)\n",
    "\n",
    "# 사전에 학습이 끝난 모델 읽어오기\n",
    "from torchvision import models\n",
    "net = models.vgg19_bn(pretrained = True)\n",
    "\n",
    "# 전이학습을 위해 required_grad 그래프를 False 로 설정\n",
    "for param in net.parameters():\n",
    "    param.requires_grad = False\n",
    "\n",
    "# 난수 초기화\n",
    "torch_seed()\n",
    "\n",
    "# 최종 노드의 출력을 2로 변경\n",
    "in_features = net.classifier[6].in_features\n",
    "net.classifier[6] = nn.Linear(in_features, 2)\n",
    "\n",
    "# AdaptiveAvgPool2d 함수 생략\n",
    "net.avgpool = nn.Identity()\n",
    "\n",
    "# GPU 사용 설정\n",
    "net = net.to(device)\n",
    "\n",
    "# 학습률\n",
    "lr = 0.001\n",
    "\n",
    "# 손실함수에 크로스엔트로피 사용\n",
    "criterion = nn.CrossEntropyLoss()\n",
    "\n",
    "# 최적화함수 정의\n",
    "\n",
    "# 파라미터 수정 대상을 최종 노드로 한정함\n",
    "optimizer = optim.SGD(net.classifier[6].parameters(),lr=lr,momentum=0.9)\n",
    "\n",
    "# history 파일을 동시에 초기화\n",
    "history = np.zeros((0, 5))"
   ]
  },
  {
   "cell_type": "code",
   "execution_count": null,
   "metadata": {
    "id": "pOPwNSZ_EPhf"
   },
   "outputs": [],
   "source": [
    "# 학습 실행 (9장)\n",
    "\n",
    "# 에폭수\n",
    "num_epochs = 10\n",
    "\n",
    "# 학습 (공통함수)\n",
    "history = fit(net, optimizer, criterion, num_epochs, train_loader, test_loader, device, history)"
   ]
  },
  {
   "cell_type": "markdown",
   "metadata": {
    "id": "6UO-4V1vEX6v"
   },
   "source": [
    "## 결과확인"
   ]
  },
  {
   "cell_type": "code",
   "execution_count": null,
   "metadata": {
    "id": "GFsTd7YHEX6v"
   },
   "outputs": [],
   "source": [
    "# 검증 데이터를 대상으로 결과 확인 (9장 공통함수)\n",
    "torch_seed()\n",
    "show_images_labels(test_loader2, classes, net, device)"
   ]
  },
  {
   "cell_type": "markdown",
   "metadata": {
    "id": "gAV40i3HDhWj"
   },
   "source": [
    "## (참고)　공통함수의 내부 구조"
   ]
  },
  {
   "cell_type": "code",
   "execution_count": null,
   "metadata": {
    "id": "9Z2Ozj9fiEDC"
   },
   "outputs": [],
   "source": [
    "# 학습용 함수\n",
    "def fit(net, optimizer, criterion, num_epochs, train_loader, test_loader, device, history):\n",
    "\n",
    "    base_epochs = len(history)\n",
    "  \n",
    "    for epoch in range(base_epochs, num_epochs+base_epochs):\n",
    "        train_loss = 0\n",
    "        train_acc = 0\n",
    "        val_loss = 0\n",
    "        val_acc = 0\n",
    "\n",
    "        # 학습 페이즈\n",
    "        net.train()\n",
    "        count = 0\n",
    "\n",
    "        for inputs, labels in tqdm(train_loader):\n",
    "            count += len(labels)\n",
    "            inputs = inputs.to(device)\n",
    "            labels = labels.to(device)\n",
    "\n",
    "            # 그라디언트 초기화\n",
    "            optimizer.zero_grad()\n",
    "\n",
    "            # 예측 계산\n",
    "            outputs = net(inputs)\n",
    "\n",
    "            # 손실 계산\n",
    "            loss = criterion(outputs, labels)\n",
    "            train_loss += loss.item()\n",
    "\n",
    "            # 그라이언트 계산\n",
    "            loss.backward()\n",
    "\n",
    "            # 파라미터 수정\n",
    "            optimizer.step()\n",
    "\n",
    "            # 예측값 산출\n",
    "            predicted = torch.max(outputs, 1)[1]\n",
    "\n",
    "            # 정답을 맞춘 수 산출\n",
    "            train_acc += (predicted == labels).sum()\n",
    "\n",
    "            # 평균 손실값과 정확도 계산\n",
    "            avg_train_loss = train_loss / count\n",
    "            avg_train_acc = train_acc / count\n",
    "\n",
    "        # 예측 페이즈\n",
    "        net.eval()\n",
    "        count = 0\n",
    "\n",
    "        for inputs, labels in test_loader:\n",
    "            count += len(labels)\n",
    "\n",
    "            inputs = inputs.to(device)\n",
    "            labels = labels.to(device)\n",
    "\n",
    "            # 예측 계산\n",
    "            outputs = net(inputs)\n",
    "\n",
    "            # 손실 계산\n",
    "            loss = criterion(outputs, labels)\n",
    "            val_loss += loss.item()\n",
    "\n",
    "            # 예측값 산출\n",
    "            predicted = torch.max(outputs, 1)[1]\n",
    "\n",
    "            # 정답을 맞춘 수 산출\n",
    "            val_acc += (predicted == labels).sum()\n",
    "\n",
    "            # 평균 손실값과 정확도 계산\n",
    "            avg_val_loss = val_loss / count\n",
    "            avg_val_acc = val_acc / count\n",
    "    \n",
    "        print (f'Epoch [{(epoch+1)}/{num_epochs+base_epochs}], loss: {avg_train_loss:.5f} acc: {avg_train_acc:.5f} val_loss: {avg_val_loss:.5f}, val_acc: {avg_val_acc:.5f}')\n",
    "        item = np.array([epoch+1, avg_train_loss, avg_train_acc, avg_val_loss, avg_val_acc])\n",
    "        history = np.vstack((history, item))\n",
    "    return history\n"
   ]
  },
  {
   "cell_type": "code",
   "execution_count": null,
   "metadata": {
    "id": "pwC4lr7ViNIK"
   },
   "outputs": [],
   "source": [
    "# 이미지와 라벨 표시\n",
    "def show_images_labels(loader, classes, net, device):\n",
    "\n",
    "    # DataLoader 에서 최초 한 세트의 이미지와 라벨을 취득\n",
    "    for images, labels in loader:\n",
    "        break\n",
    "    # 표시 수는 숫자 50과 배치사이즈를 비교해 작은 쪽을 선택\n",
    "    n_size = min(len(images), 50)\n",
    "\n",
    "    if net is not None:\n",
    "      # 디바이스에 데이터 할당\n",
    "      inputs = images.to(device)\n",
    "      labels = labels.to(device)\n",
    "\n",
    "      # 예측 계산\n",
    "      outputs = net(inputs)\n",
    "      predicted = torch.max(outputs,1)[1]\n",
    "      #images = images.to('cpu')\n",
    "\n",
    "    # 최초 n_size 만큼 표시\n",
    "    plt.figure(figsize=(20, 15))\n",
    "    for i in range(n_size):\n",
    "        ax = plt.subplot(5, 10, i + 1)\n",
    "        label_name = classes[labels[i]]\n",
    "        # net 이 None 이 아니면 예측 결과도 타이틀에 표기\n",
    "        if net is not None:\n",
    "          predicted_name = classes[predicted[i]]\n",
    "          # 정답 여부를 색으로 나눔\n",
    "          if label_name == predicted_name:\n",
    "            c = 'k'\n",
    "          else:\n",
    "            c = 'b'\n",
    "          ax.set_title(label_name + ':' + predicted_name, c=c, fontsize=20)\n",
    "        # net 가 None 일 경우는 정답 라벨만을 표시\n",
    "        else:\n",
    "          ax.set_title(label_name, fontsize=20)\n",
    "        # Tensor 를 NumPy 로 변환\n",
    "        image_np = images[i].numpy().copy()\n",
    "        # 축의 순서 변경 (channel, row, column) -> (row, column, channel)\n",
    "        img = np.transpose(image_np, (1, 2, 0))\n",
    "        # 값의 범위를 [-1, 1] -> [0, 1] 로 되돌리기\n",
    "        img = (img + 1)/2\n",
    "        # 결과 표시\n",
    "        plt.imshow(img)\n",
    "        ax.set_axis_off()\n",
    "    plt.show()\n"
   ]
  },
  {
   "cell_type": "code",
   "execution_count": null,
   "metadata": {
    "id": "LN1pshnhiXRn"
   },
   "outputs": [],
   "source": [
    "# PyTorch 난수 고정\n",
    "\n",
    "def torch_seed(seed=123):\n",
    "    torch.manual_seed(seed)\n",
    "    torch.cuda.manual_seed(seed)\n",
    "    torch.use_deterministic_algorithms = True\n"
   ]
  },
  {
   "cell_type": "code",
   "execution_count": null,
   "metadata": {
    "id": "M53TqEGz4NSt"
   },
   "outputs": [],
   "source": []
  },
  {
   "cell_type": "code",
   "execution_count": null,
   "metadata": {
    "id": "x5x6DHx5iDVh"
   },
   "outputs": [],
   "source": []
  }
 ],
 "metadata": {
  "accelerator": "GPU",
  "colab": {
   "collapsed_sections": [],
   "name": "ch00_intro.ipynb",
   "provenance": [],
   "toc_visible": true
  },
  "kernelspec": {
   "display_name": "Python 3 (ipykernel)",
   "language": "python",
   "name": "python3"
  },
  "language_info": {
   "codemirror_mode": {
    "name": "ipython",
    "version": 3
   },
   "file_extension": ".py",
   "mimetype": "text/x-python",
   "name": "python",
   "nbconvert_exporter": "python",
   "pygments_lexer": "ipython3",
   "version": "3.8.8"
  }
 },
 "nbformat": 4,
 "nbformat_minor": 1
}
